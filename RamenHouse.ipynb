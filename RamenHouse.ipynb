{
 "cells": [
  {
   "cell_type": "code",
   "execution_count": 1,
   "metadata": {},
   "outputs": [],
   "source": [
    "from PIL import ImageFont, ImageDraw, Image\n",
    "import numpy as np\n",
    "import cv2\n",
    "import mediapipe as mp\n",
    "import socket\n",
    "# 한글을 출력하기 위한 함수\n",
    "def draw_text(img, text, position, font_size, font_color):\n",
    "    font_path = \"C:/Windows/Fonts/gulim.ttc\"  # Windows에서 Gulim 폰트 경로\n",
    "\n",
    "    # opencv 이미지를 PIL이미지로 변\n",
    "    \n",
    "    img_pil = Image.fromarray(img)\n",
    "\n",
    "    # PIL Draw 객체 생성\n",
    "    draw = ImageDraw.Draw(img_pil)\n",
    "\n",
    "    # 폰트 스타일 지정\n",
    "    font = ImageFont.truetype(font_path, font_size)\n",
    "\n",
    "    # PIL 이미지에 텍스트 입력\n",
    "    draw.text(position, text, font=font, fill=font_color)\n",
    "    return np.array(img_pil) # 최종 numpy array 로 이미지 형태 반환"
   ]
  },
  {
   "cell_type": "code",
   "execution_count": 3,
   "metadata": {},
   "outputs": [],
   "source": [
    "import socket\n",
    "\n",
    "socket_connect = socket.socket(socket.AF_INET, socket.SOCK_STREAM)\n",
    "server_host='127.0.0.1'\n",
    "server_port=65432\n",
    "socket_connect.connect((server_host, server_port))"
   ]
  },
  {
   "cell_type": "code",
   "execution_count": null,
   "metadata": {},
   "outputs": [],
   "source": [
    "while True:\n",
    "    data = socket_connect.recv(1024)\n",
    "    print(data)"
   ]
  },
  {
   "cell_type": "code",
   "execution_count": 2,
   "metadata": {},
   "outputs": [],
   "source": [
    "# TCP/IP 소켓 설정\n",
    "HOST = '127.0.0.1'  # 언리얼 엔진 호스트 IP\n",
    "PORT = 65432        # 사용할 포트"
   ]
  },
  {
   "cell_type": "code",
   "execution_count": 2,
   "metadata": {},
   "outputs": [
    {
     "ename": "NameError",
     "evalue": "name 'socket' is not defined",
     "output_type": "error",
     "traceback": [
      "\u001b[1;31m---------------------------------------------------------------------------\u001b[0m",
      "\u001b[1;31mNameError\u001b[0m                                 Traceback (most recent call last)",
      "Cell \u001b[1;32mIn[2], line 2\u001b[0m\n\u001b[0;32m      1\u001b[0m \u001b[38;5;66;03m# 소켓 연결\u001b[39;00m\n\u001b[1;32m----> 2\u001b[0m s \u001b[38;5;241m=\u001b[39m \u001b[43msocket\u001b[49m\u001b[38;5;241m.\u001b[39msocket(socket\u001b[38;5;241m.\u001b[39mAF_INET, socket\u001b[38;5;241m.\u001b[39mSOCK_STREAM)\n\u001b[0;32m      3\u001b[0m s\u001b[38;5;241m.\u001b[39mconnect((HOST, PORT))\n\u001b[0;32m      4\u001b[0m \u001b[38;5;28mprint\u001b[39m(\u001b[38;5;124m'\u001b[39m\u001b[38;5;124mConnected to Unreal Engine.\u001b[39m\u001b[38;5;124m'\u001b[39m)\n",
      "\u001b[1;31mNameError\u001b[0m: name 'socket' is not defined"
     ]
    }
   ],
   "source": [
    "# 소켓 연결\n",
    "s = socket.socket(socket.AF_INET, socket.SOCK_STREAM)\n",
    "s.connect((HOST, PORT))\n",
    "print('Connected to Unreal Engine.')"
   ]
  },
  {
   "cell_type": "code",
   "execution_count": 3,
   "metadata": {},
   "outputs": [
    {
     "ename": "NameError",
     "evalue": "name 's' is not defined",
     "output_type": "error",
     "traceback": [
      "\u001b[1;31m---------------------------------------------------------------------------\u001b[0m",
      "\u001b[1;31mNameError\u001b[0m                                 Traceback (most recent call last)",
      "Cell \u001b[1;32mIn[3], line 62\u001b[0m\n\u001b[0;32m     59\u001b[0m         image \u001b[38;5;241m=\u001b[39m draw_text(image, pose, (\u001b[38;5;241m10\u001b[39m, \u001b[38;5;241m50\u001b[39m), \u001b[38;5;241m30\u001b[39m, (\u001b[38;5;241m255\u001b[39m, \u001b[38;5;241m255\u001b[39m, \u001b[38;5;241m255\u001b[39m))\n\u001b[0;32m     61\u001b[0m         \u001b[38;5;66;03m#언리얼로 감지된 동작 전송\u001b[39;00m\n\u001b[1;32m---> 62\u001b[0m         \u001b[43msend_gesture_to_unreal\u001b[49m\u001b[43m(\u001b[49m\u001b[43mpose\u001b[49m\u001b[43m)\u001b[49m\n\u001b[0;32m     64\u001b[0m cv2\u001b[38;5;241m.\u001b[39mimshow(\u001b[38;5;124m'\u001b[39m\u001b[38;5;124mHand Pose\u001b[39m\u001b[38;5;124m'\u001b[39m, image)\n\u001b[0;32m     66\u001b[0m \u001b[38;5;28;01mif\u001b[39;00m cv2\u001b[38;5;241m.\u001b[39mwaitKey(\u001b[38;5;241m5\u001b[39m) \u001b[38;5;241m&\u001b[39m \u001b[38;5;241m0xFF\u001b[39m \u001b[38;5;241m==\u001b[39m \u001b[38;5;28mord\u001b[39m(\u001b[38;5;124m'\u001b[39m\u001b[38;5;124mq\u001b[39m\u001b[38;5;124m'\u001b[39m):\n",
      "Cell \u001b[1;32mIn[3], line 36\u001b[0m, in \u001b[0;36msend_gesture_to_unreal\u001b[1;34m(gesture)\u001b[0m\n\u001b[0;32m     34\u001b[0m \u001b[38;5;28;01mdef\u001b[39;00m \u001b[38;5;21msend_gesture_to_unreal\u001b[39m(gesture):\n\u001b[0;32m     35\u001b[0m     \u001b[38;5;66;03m# 감지된 동작을 언리얼 엔진으로 전송\u001b[39;00m\n\u001b[1;32m---> 36\u001b[0m     \u001b[43ms\u001b[49m\u001b[38;5;241m.\u001b[39msendall(gesture\u001b[38;5;241m.\u001b[39mencode())\n",
      "\u001b[1;31mNameError\u001b[0m: name 's' is not defined"
     ]
    },
    {
     "ename": "",
     "evalue": "",
     "output_type": "error",
     "traceback": [
      "\u001b[1;31mThe Kernel crashed while executing code in the current cell or a previous cell. \n",
      "\u001b[1;31mPlease review the code in the cell(s) to identify a possible cause of the failure. \n",
      "\u001b[1;31mClick <a href='https://aka.ms/vscodeJupyterKernelCrash'>here</a> for more info. \n",
      "\u001b[1;31mView Jupyter <a href='command:jupyter.viewOutput'>log</a> for further details."
     ]
    }
   ],
   "source": [
    "mp_hands = mp.solutions.hands\n",
    "hands = mp_hands.Hands(\n",
    "    max_num_hands=1,\n",
    "    min_detection_confidence=0.5,\n",
    "    min_tracking_confidence=0.5)\n",
    "mp_drawing = mp.solutions.drawing_utils\n",
    "\n",
    "\n",
    "def get_hand_pose(hand_landmarks):\n",
    "    # 손가락 끝과 PIP(손가락 중간 관절) 사이의 거리를 비교하여 손가락이 펴져 있는지 확인\n",
    "    open_fingers = []\n",
    "    for i in [4, 8, 12, 16, 20]:  # 엄지부터 새끼손가락까지의 끝 랜드마크 인덱스\n",
    "        tip = hand_landmarks.landmark[i]  # 손가락 끝\n",
    "        pip = hand_landmarks.landmark[i - 2]  # 손가락 중간 관절\n",
    "\n",
    "        # if handedness.classification[0].label == \"Right\":  # 오른손인 경우 판별하기\n",
    "\n",
    "        # 엄지는 x좌표를, 나머지 손가락은 y좌표를 사용하여 개폐 상태 확인 - 오른손 기준\n",
    "        if i == 4:  # 엄지손가락인 경우\n",
    "            open_fingers.append(tip.x > pip.x)\n",
    "        else:\n",
    "            open_fingers.append(tip.y < pip.y)\n",
    "    \n",
    "    if open_fingers.count(True) == 5:\n",
    "        return \"놓기\"\n",
    "    elif open_fingers.count(True) == 0:\n",
    "        return \"잡기\"\n",
    "    else:\n",
    "        return \"모름\"\n",
    "\n",
    "cap = cv2.VideoCapture(0)\n",
    "\n",
    "\n",
    "while cap.isOpened():\n",
    "    success, image = cap.read()\n",
    "    if not success:\n",
    "        continue\n",
    "\n",
    "    image = cv2.cvtColor(image, cv2.COLOR_BGR2RGB)\n",
    "    results = hands.process(image)\n",
    "    image = cv2.cvtColor(image, cv2.COLOR_RGB2BGR)\n",
    "\n",
    "    if results.multi_hand_landmarks:\n",
    "        for hand_landmarks in results.multi_hand_landmarks:\n",
    "            # 손 랜드마크 그리기\n",
    "            mp_drawing.draw_landmarks(\n",
    "                image, hand_landmarks, mp_hands.HAND_CONNECTIONS,\n",
    "                mp_drawing.DrawingSpec(color=(121, 22, 76), thickness=2, circle_radius=4),\n",
    "                mp_drawing.DrawingSpec(color=(250, 44, 250), thickness=2))\n",
    "            \n",
    "            # 포즈 판별 및 출력\n",
    "            pose = get_hand_pose(hand_landmarks)\n",
    "            \n",
    "            # 한글 출력을 위한 작업\n",
    "            image = draw_text(image, pose, (10, 50), 30, (255, 255, 255))\n",
    "\n",
    "            #언리얼로 감지된 동작 전송\n",
    "            send_gesture_to_unreal(pose)\n",
    "\n",
    "    cv2.imshow('Hand Pose', image)\n",
    "\n",
    "    if cv2.waitKey(5) & 0xFF == ord('q'):\n",
    "        break\n",
    "\n",
    "cap.release()\n",
    "cv2.destroyAllWindows()"
   ]
  },
  {
   "cell_type": "code",
   "execution_count": null,
   "metadata": {},
   "outputs": [],
   "source": []
  },
  {
   "cell_type": "code",
   "execution_count": 6,
   "metadata": {},
   "outputs": [],
   "source": []
  },
  {
   "cell_type": "code",
   "execution_count": null,
   "metadata": {},
   "outputs": [],
   "source": []
  }
 ],
 "metadata": {
  "kernelspec": {
   "display_name": "sesac_gpu_env310",
   "language": "python",
   "name": "python3"
  },
  "language_info": {
   "codemirror_mode": {
    "name": "ipython",
    "version": 3
   },
   "file_extension": ".py",
   "mimetype": "text/x-python",
   "name": "python",
   "nbconvert_exporter": "python",
   "pygments_lexer": "ipython3",
   "version": "3.10.14"
  }
 },
 "nbformat": 4,
 "nbformat_minor": 2
}
